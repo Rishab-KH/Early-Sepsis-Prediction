{
 "cells": [
  {
   "cell_type": "code",
   "execution_count": 13,
   "metadata": {},
   "outputs": [],
   "source": [
    "import pandas as pd\n",
    "from sklearn.model_selection import train_test_split\n",
    "from sklearn.linear_model import LogisticRegression\n",
    "from sklearn.tree import DecisionTreeClassifier\n",
    "from sklearn.ensemble import RandomForestClassifier\n",
    "from sklearn.metrics import accuracy_score, precision_score, recall_score, f1_score, confusion_matrix\n",
    "import numpy as np\n",
    "import pickle\n"
   ]
  },
  {
   "cell_type": "code",
   "execution_count": 14,
   "metadata": {},
   "outputs": [],
   "source": [
    "def load_data_from_pickle(obj_name):\n",
    "    '''\n",
    "    load_data_from_pickle function loads and deserializes an object from a pickle file.\n",
    "\n",
    "    Args:\n",
    "        obj_name (str): The path to the pickle file containing the serialized object. \n",
    "\n",
    "    Returns:\n",
    "        obj (pd.DataFrame): The deserialized object that was stored in the pickle file. \n",
    "\n",
    "    '''\n",
    "    with open(obj_name, 'rb') as file:\n",
    "        obj = pickle.load(file)\n",
    "    return obj"
   ]
  },
  {
   "cell_type": "code",
   "execution_count": 15,
   "metadata": {},
   "outputs": [],
   "source": [
    "X_train = load_data_from_pickle(\"/Users/sharanyasenthil/Downloads/data_processed_data_X_train.pkl\")\n",
    "y_train = load_data_from_pickle(\"/Users/sharanyasenthil/Downloads/data_processed_data_y_train.pkl\")"
   ]
  },
  {
   "cell_type": "code",
   "execution_count": 16,
   "metadata": {},
   "outputs": [],
   "source": [
    "X_test = load_data_from_pickle(\"/Users/sharanyasenthil/Downloads/data_processed_data_X_test.pkl\")\n",
    "y_test = load_data_from_pickle(\"/Users/sharanyasenthil/Downloads/data_processed_data_y_test.pkl\")"
   ]
  },
  {
   "cell_type": "code",
   "execution_count": 17,
   "metadata": {},
   "outputs": [
    {
     "name": "stderr",
     "output_type": "stream",
     "text": [
      "/opt/anaconda3/lib/python3.11/site-packages/sklearn/linear_model/_logistic.py:458: ConvergenceWarning: lbfgs failed to converge (status=1):\n",
      "STOP: TOTAL NO. of ITERATIONS REACHED LIMIT.\n",
      "\n",
      "Increase the number of iterations (max_iter) or scale the data as shown in:\n",
      "    https://scikit-learn.org/stable/modules/preprocessing.html\n",
      "Please also refer to the documentation for alternative solver options:\n",
      "    https://scikit-learn.org/stable/modules/linear_model.html#logistic-regression\n",
      "  n_iter_i = _check_optimize_result(\n"
     ]
    },
    {
     "name": "stdout",
     "output_type": "stream",
     "text": [
      "Logistic Regression Results:  (0.9793066754825945, 0.23728813559322035, 0.007099391480730223, 0.013786312161496799, array([[189555,     90],\n",
      "       [  3916,     28]]))\n",
      "Decision Tree Results:  (0.9533547877203766, 0.07360831656606305, 0.11130831643002029, 0.08861526039563988, array([[184120,   5525],\n",
      "       [  3505,    439]]))\n",
      "Random Forest Results:  (0.9791413768344276, 0.1780821917808219, 0.006592292089249493, 0.012713936430317848, array([[189525,    120],\n",
      "       [  3918,     26]]))\n"
     ]
    }
   ],
   "source": [
    "# Logistic Regression\n",
    "log_reg = LogisticRegression()\n",
    "log_reg.fit(X_train, y_train)\n",
    "y_pred_log_reg = log_reg.predict(X_test)\n",
    "\n",
    "# Decision Tree\n",
    "dec_tree = DecisionTreeClassifier()\n",
    "dec_tree.fit(X_train, y_train)\n",
    "y_pred_dec_tree = dec_tree.predict(X_test)\n",
    "\n",
    "# Random Forest\n",
    "rand_forest = RandomForestClassifier()\n",
    "rand_forest.fit(X_train, y_train)\n",
    "y_pred_rand_forest = rand_forest.predict(X_test)\n",
    "\n",
    "# Evaluation Function\n",
    "def evaluate_model(y_test, y_pred):\n",
    "    accuracy = accuracy_score(y_test, y_pred)\n",
    "    precision = precision_score(y_test, y_pred, zero_division=0)\n",
    "    recall = recall_score(y_test, y_pred, zero_division=0)\n",
    "    f1 = f1_score(y_test, y_pred, zero_division=0)\n",
    "    cm = confusion_matrix(y_test, y_pred)\n",
    "    return accuracy, precision, recall, f1, cm\n",
    "\n",
    "# Evaluating the models\n",
    "log_reg_results = evaluate_model(y_test, y_pred_log_reg)\n",
    "dec_tree_results = evaluate_model(y_test, y_pred_dec_tree)\n",
    "rand_forest_results = evaluate_model(y_test, y_pred_rand_forest)\n",
    "\n",
    "# Displaying the results\n",
    "print(\"Logistic Regression Results: \", log_reg_results)\n",
    "print(\"Decision Tree Results: \", dec_tree_results)\n",
    "print(\"Random Forest Results: \", rand_forest_results)"
   ]
  },
  {
   "cell_type": "code",
   "execution_count": 23,
   "metadata": {},
   "outputs": [
    {
     "name": "stderr",
     "output_type": "stream",
     "text": [
      "2024/06/13 15:10:59 INFO mlflow.tracking.fluent: Experiment with name 'Sepsis Prediction Models' does not exist. Creating a new experiment.\n"
     ]
    }
   ],
   "source": [
    "import mlflow\n",
    "import mlflow.sklearn\n",
    "\n",
    "mlflow.set_experiment(\"Sepsis Prediction Models\")\n",
    "\n",
    "# Set the tracking URI to the local server\n",
    "mlflow.set_tracking_uri(\"http://127.0.0.1:5000\")\n",
    "\n"
   ]
  },
  {
   "cell_type": "code",
   "execution_count": 24,
   "metadata": {},
   "outputs": [
    {
     "name": "stderr",
     "output_type": "stream",
     "text": [
      "/opt/anaconda3/lib/python3.11/site-packages/sklearn/linear_model/_logistic.py:458: ConvergenceWarning: lbfgs failed to converge (status=1):\n",
      "STOP: TOTAL NO. of ITERATIONS REACHED LIMIT.\n",
      "\n",
      "Increase the number of iterations (max_iter) or scale the data as shown in:\n",
      "    https://scikit-learn.org/stable/modules/preprocessing.html\n",
      "Please also refer to the documentation for alternative solver options:\n",
      "    https://scikit-learn.org/stable/modules/linear_model.html#logistic-regression\n",
      "  n_iter_i = _check_optimize_result(\n"
     ]
    },
    {
     "name": "stdout",
     "output_type": "stream",
     "text": [
      "Logistic Regression Results:  (0.7788665678318499, 0.0556152667566146, 0.6166328600405679, 0.10202840182073711, array([[148348,  41297],\n",
      "       [  1512,   2432]]))\n",
      "Decision Tree Results:  (0.9604936230880887, 0.05841678588459704, 0.06211967545638945, 0.0602113541410666, array([[185696,   3949],\n",
      "       [  3699,    245]]))\n",
      "Random Forest Results:  (0.9796321071961733, 1.0, 0.0002535496957403651, 0.0005069708491761723, array([[189645,      0],\n",
      "       [  3943,      1]]))\n"
     ]
    }
   ],
   "source": [
    "def evaluate_model(y_test, y_pred):\n",
    "    accuracy = accuracy_score(y_test, y_pred)\n",
    "    precision = precision_score(y_test, y_pred, zero_division=0)\n",
    "    recall = recall_score(y_test, y_pred, zero_division=0)\n",
    "    f1 = f1_score(y_test, y_pred, zero_division=0)\n",
    "    cm = confusion_matrix(y_test, y_pred)\n",
    "    return accuracy, precision, recall, f1, cm\n",
    "\n",
    "# Logistic Regression\n",
    "with mlflow.start_run(run_name=\"Logistic Regression\"):\n",
    "    log_reg = LogisticRegression(class_weight='balanced')\n",
    "    log_reg.fit(X_train, y_train)\n",
    "    y_pred_log_reg = log_reg.predict(X_test)\n",
    "    log_reg_results = evaluate_model(y_test, y_pred_log_reg)\n",
    "    \n",
    "    mlflow.log_param(\"model\", \"Logistic Regression\")\n",
    "    mlflow.log_metric(\"accuracy\", log_reg_results[0])\n",
    "    mlflow.log_metric(\"precision\", log_reg_results[1])\n",
    "    mlflow.log_metric(\"recall\", log_reg_results[2])\n",
    "    mlflow.log_metric(\"f1\", log_reg_results[3])\n",
    "    mlflow.sklearn.log_model(log_reg, \"model\")\n",
    "    \n",
    "    print(\"Logistic Regression Results: \", log_reg_results)\n",
    "\n",
    "# Decision Tree\n",
    "with mlflow.start_run(run_name=\"Decision Tree\"):\n",
    "    dec_tree = DecisionTreeClassifier(class_weight='balanced')\n",
    "    dec_tree.fit(X_train, y_train)\n",
    "    y_pred_dec_tree = dec_tree.predict(X_test)\n",
    "    dec_tree_results = evaluate_model(y_test, y_pred_dec_tree)\n",
    "    \n",
    "    mlflow.log_param(\"model\", \"Decision Tree\")\n",
    "    mlflow.log_metric(\"accuracy\", dec_tree_results[0])\n",
    "    mlflow.log_metric(\"precision\", dec_tree_results[1])\n",
    "    mlflow.log_metric(\"recall\", dec_tree_results[2])\n",
    "    mlflow.log_metric(\"f1\", dec_tree_results[3])\n",
    "    mlflow.sklearn.log_model(dec_tree, \"model\")\n",
    "    \n",
    "    print(\"Decision Tree Results: \", dec_tree_results)\n",
    "\n",
    "# Random Forest\n",
    "with mlflow.start_run(run_name=\"Random Forest\"):\n",
    "    rand_forest = RandomForestClassifier(class_weight='balanced')\n",
    "    rand_forest.fit(X_train, y_train)\n",
    "    y_pred_rand_forest = rand_forest.predict(X_test)\n",
    "    rand_forest_results = evaluate_model(y_test, y_pred_rand_forest)\n",
    "    \n",
    "    mlflow.log_param(\"model\", \"Random Forest\")\n",
    "    mlflow.log_metric(\"accuracy\", rand_forest_results[0])\n",
    "    mlflow.log_metric(\"precision\", rand_forest_results[1])\n",
    "    mlflow.log_metric(\"recall\", rand_forest_results[2])\n",
    "    mlflow.log_metric(\"f1\", rand_forest_results[3])\n",
    "    mlflow.sklearn.log_model(rand_forest, \"model\")\n",
    "    \n",
    "    print(\"Random Forest Results: \", rand_forest_results)"
   ]
  },
  {
   "cell_type": "code",
   "execution_count": 12,
   "metadata": {},
   "outputs": [
    {
     "data": {
      "text/plain": [
       "((585664, 18), (193589,), (585664, 18), (585664,))"
      ]
     },
     "execution_count": 12,
     "metadata": {},
     "output_type": "execute_result"
    }
   ],
   "source": [
    "X_test.shape, y_test.shape, X_train.shape, y_train.shape"
   ]
  },
  {
   "cell_type": "code",
   "execution_count": 29,
   "metadata": {},
   "outputs": [
    {
     "name": "stdout",
     "output_type": "stream",
     "text": [
      "cloud-ai-platform-a0cf14d4-4df3-4f3d-94fb-f9fe06a2b67c\n",
      "dataproc-staging-us-central1-1035581784142-eeq8irji\n",
      "dataproc-temp-us-central1-1035581784142-f1cpbm4t\n",
      "gcf-v2-sources-1035581784142-us-central1\n",
      "gcf-v2-uploads-1035581784142-us-central1\n",
      "leafy-sunrise-425218-h4_cloudbuild\n",
      "sepsis-prediction-mlops\n",
      "sepsis-prediction-outputs\n",
      "us-central1-mlops-airflow-0eb255c2-bucket\n",
      "us-central1-mlops-airflow-2426135b-bucket\n",
      "us-central1-mlops-airflow-5a16547c-bucket\n",
      "us-central1-mlops-airflow-83834e06-bucket\n",
      "us-central1-mlops-airflow-a6ca8f0c-bucket\n",
      "us-central1-mlops-airflow-ae3f3e99-bucket\n",
      "us-central1-mlops-airflow-d11424fb-bucket\n",
      "us-central1-mlops-airflow-f7614037-bucket\n",
      "us-central1-mlops-airflow-i-7e7733c7-bucket\n",
      "us-central1-mlops-airflow-i-8417136d-bucket\n",
      "us-central1-mlops-airflow-i-d875dfd1-bucket\n",
      "us-central1-mlops-airflow-n-b55e3862-bucket\n",
      "us-central1-sepsis-mlops-ai-1c8b31e6-bucket\n",
      "us-central1-sepsis-mlops-ai-2d4ead58-bucket\n",
      "us-east1-mlops-airflow-8ff0f727-bucket\n"
     ]
    }
   ],
   "source": [
    "from google.cloud import storage\n",
    "\n",
    "# Path to your service account key file\n",
    "key_path = \"/Users/sharanyasenthil/.gcp.json\"\n",
    "\n",
    "# Initialize the client using the service account key\n",
    "client = storage.Client.from_service_account_json(key_path)\n",
    "\n",
    "# Example: List all buckets\n",
    "buckets = list(client.list_buckets())\n",
    "for bucket in buckets:\n",
    "    print(bucket.name)\n"
   ]
  },
  {
   "cell_type": "code",
   "execution_count": null,
   "metadata": {},
   "outputs": [],
   "source": []
  }
 ],
 "metadata": {
  "kernelspec": {
   "display_name": "base",
   "language": "python",
   "name": "python3"
  },
  "language_info": {
   "codemirror_mode": {
    "name": "ipython",
    "version": 3
   },
   "file_extension": ".py",
   "mimetype": "text/x-python",
   "name": "python",
   "nbconvert_exporter": "python",
   "pygments_lexer": "ipython3",
   "version": "3.11.7"
  }
 },
 "nbformat": 4,
 "nbformat_minor": 2
}
